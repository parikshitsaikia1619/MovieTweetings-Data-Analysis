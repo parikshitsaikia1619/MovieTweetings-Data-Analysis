{
 "cells": [
  {
   "cell_type": "markdown",
   "id": "d0db76ec",
   "metadata": {},
   "source": [
    "<img src='https://einsteinmarketer.ams3.digitaloceanspaces.com/em/uploads/2019/06/twitter-logo.png' width=\"500\" height=\"200\" style=\"float: left;\"></img>\n",
    "<img src='https://www.kindpng.com/picc/m/1-11743_filmklappe-film-cinema-hatch-synchronously-icon-film-icon.png' width=\"220\" height=\"220\" style=\"float: left;\"></img>"
   ]
  },
  {
   "cell_type": "code",
   "execution_count": null,
   "id": "0d1dacf9",
   "metadata": {},
   "outputs": [],
   "source": []
  },
  {
   "cell_type": "markdown",
   "id": "ebe5fcb1",
   "metadata": {},
   "source": [
    "<h1>Data Analysis using Movie Tweetings data.</h1>"
   ]
  },
  {
   "cell_type": "markdown",
   "id": "8541ea1b",
   "metadata": {},
   "source": [
    "## Each stage of the CRISP-DM process. These stages are:\n",
    "\n",
    "1. Business Understanding\n",
    "2. Data Understanding\n",
    "3. Prepare Data\n",
    "4. Data Modeling\n",
    "5. Evaluate the Results (Insight)"
   ]
  },
  {
   "cell_type": "markdown",
   "id": "a6731aaa",
   "metadata": {},
   "source": [
    "## About Dataset\n",
    "MovieTweetings is a dataset consisting of ratings on movies that were contained in well-structured tweets on Twitter. This dataset is the result of research conducted by [Simon Dooms] (http://scholar.google.be/citations?user=owaD8qkAAAAJ) (Ghent University, Belgium) and has been presented on the CrowdRec 2013 workshop which is co-located with the ACM RecSys 2013 conference. Please cite the corresponding paper if you make use of this dataset. The presented slides can be found [on slideshare] (http://www.slideshare.net/simondooms/movie-tweetings-a-movie-rating-dataset-collected-from-twitter)."
   ]
  },
  {
   "cell_type": "markdown",
   "id": "4fc4e7fd",
   "metadata": {},
   "source": [
    "\n",
    "# Business Understanding\n",
    "\n",
    "In this notebook, I will be exploring the MovieTweetings data,<br>\n",
    "These are the questions that I will seek to answer in order to get this information:\n",
    "\n",
    "* Q: What are the top 10 highest rated movies in twitter?\n",
    "* Q: What are the top 10 most reviewed movies on twitter?\n",
    "* Q: Which twitter users are potential candidates to get hired from a movie reviewing company?\n",
    "* Q: Which genres are popular for movies?"
   ]
  },
  {
   "cell_type": "code",
   "execution_count": 22,
   "id": "4b374a8d",
   "metadata": {},
   "outputs": [],
   "source": [
    "# importing libraries\n",
    "import numpy as np\n",
    "import pandas as pd\n",
    "import matplotlib.pyplot as plt\n",
    "import seaborn as sns"
   ]
  },
  {
   "cell_type": "markdown",
   "id": "62afacdc",
   "metadata": {},
   "source": [
    "# Data Understanding and Preparation\n",
    "\n",
    "In order to gain some understanding of the data. I have to do these steps:\n",
    "* Handle categorical and missing data\n",
    "* Drop unwanted columns\n",
    "* Analyze"
   ]
  },
  {
   "cell_type": "code",
   "execution_count": 23,
   "id": "1aa5f406",
   "metadata": {},
   "outputs": [],
   "source": [
    "# reading dataset\n",
    "movies = pd.read_csv('./data/movies_clean.csv')\n",
    "reviews = pd.read_csv('./data/reviews_clean.csv')"
   ]
  },
  {
   "cell_type": "code",
   "execution_count": 24,
   "id": "c9068e8f",
   "metadata": {},
   "outputs": [
    {
     "data": {
      "text/html": [
       "<div>\n",
       "<style scoped>\n",
       "    .dataframe tbody tr th:only-of-type {\n",
       "        vertical-align: middle;\n",
       "    }\n",
       "\n",
       "    .dataframe tbody tr th {\n",
       "        vertical-align: top;\n",
       "    }\n",
       "\n",
       "    .dataframe thead th {\n",
       "        text-align: right;\n",
       "    }\n",
       "</style>\n",
       "<table border=\"1\" class=\"dataframe\">\n",
       "  <thead>\n",
       "    <tr style=\"text-align: right;\">\n",
       "      <th></th>\n",
       "      <th>Unnamed: 0</th>\n",
       "      <th>movie_id</th>\n",
       "      <th>movie</th>\n",
       "      <th>genre</th>\n",
       "      <th>date</th>\n",
       "      <th>1800's</th>\n",
       "      <th>1900's</th>\n",
       "      <th>2000's</th>\n",
       "      <th>Documentary</th>\n",
       "      <th>Adventure</th>\n",
       "      <th>...</th>\n",
       "      <th>War</th>\n",
       "      <th>Romance</th>\n",
       "      <th>Musical</th>\n",
       "      <th>Film-Noir</th>\n",
       "      <th>Sport</th>\n",
       "      <th>Mystery</th>\n",
       "      <th>Western</th>\n",
       "      <th>Horror</th>\n",
       "      <th>Comedy</th>\n",
       "      <th>Music</th>\n",
       "    </tr>\n",
       "  </thead>\n",
       "  <tbody>\n",
       "    <tr>\n",
       "      <th>0</th>\n",
       "      <td>0</td>\n",
       "      <td>8</td>\n",
       "      <td>Edison Kinetoscopic Record of a Sneeze (1894)</td>\n",
       "      <td>Documentary|Short</td>\n",
       "      <td>1894</td>\n",
       "      <td>1</td>\n",
       "      <td>0</td>\n",
       "      <td>0</td>\n",
       "      <td>1</td>\n",
       "      <td>0</td>\n",
       "      <td>...</td>\n",
       "      <td>0</td>\n",
       "      <td>0</td>\n",
       "      <td>0</td>\n",
       "      <td>0</td>\n",
       "      <td>0</td>\n",
       "      <td>0</td>\n",
       "      <td>0</td>\n",
       "      <td>0</td>\n",
       "      <td>0</td>\n",
       "      <td>0</td>\n",
       "    </tr>\n",
       "    <tr>\n",
       "      <th>1</th>\n",
       "      <td>1</td>\n",
       "      <td>10</td>\n",
       "      <td>La sortie des usines Lumière (1895)</td>\n",
       "      <td>Documentary|Short</td>\n",
       "      <td>1895</td>\n",
       "      <td>1</td>\n",
       "      <td>0</td>\n",
       "      <td>0</td>\n",
       "      <td>1</td>\n",
       "      <td>0</td>\n",
       "      <td>...</td>\n",
       "      <td>0</td>\n",
       "      <td>0</td>\n",
       "      <td>0</td>\n",
       "      <td>0</td>\n",
       "      <td>0</td>\n",
       "      <td>0</td>\n",
       "      <td>0</td>\n",
       "      <td>0</td>\n",
       "      <td>0</td>\n",
       "      <td>0</td>\n",
       "    </tr>\n",
       "    <tr>\n",
       "      <th>2</th>\n",
       "      <td>2</td>\n",
       "      <td>12</td>\n",
       "      <td>The Arrival of a Train (1896)</td>\n",
       "      <td>Documentary|Short</td>\n",
       "      <td>1896</td>\n",
       "      <td>1</td>\n",
       "      <td>0</td>\n",
       "      <td>0</td>\n",
       "      <td>1</td>\n",
       "      <td>0</td>\n",
       "      <td>...</td>\n",
       "      <td>0</td>\n",
       "      <td>0</td>\n",
       "      <td>0</td>\n",
       "      <td>0</td>\n",
       "      <td>0</td>\n",
       "      <td>0</td>\n",
       "      <td>0</td>\n",
       "      <td>0</td>\n",
       "      <td>0</td>\n",
       "      <td>0</td>\n",
       "    </tr>\n",
       "    <tr>\n",
       "      <th>3</th>\n",
       "      <td>3</td>\n",
       "      <td>25</td>\n",
       "      <td>The Oxford and Cambridge University Boat Race ...</td>\n",
       "      <td>NaN</td>\n",
       "      <td>1895</td>\n",
       "      <td>1</td>\n",
       "      <td>0</td>\n",
       "      <td>0</td>\n",
       "      <td>0</td>\n",
       "      <td>0</td>\n",
       "      <td>...</td>\n",
       "      <td>0</td>\n",
       "      <td>0</td>\n",
       "      <td>0</td>\n",
       "      <td>0</td>\n",
       "      <td>0</td>\n",
       "      <td>0</td>\n",
       "      <td>0</td>\n",
       "      <td>0</td>\n",
       "      <td>0</td>\n",
       "      <td>0</td>\n",
       "    </tr>\n",
       "    <tr>\n",
       "      <th>4</th>\n",
       "      <td>4</td>\n",
       "      <td>91</td>\n",
       "      <td>Le manoir du diable (1896)</td>\n",
       "      <td>Short|Horror</td>\n",
       "      <td>1896</td>\n",
       "      <td>1</td>\n",
       "      <td>0</td>\n",
       "      <td>0</td>\n",
       "      <td>0</td>\n",
       "      <td>0</td>\n",
       "      <td>...</td>\n",
       "      <td>0</td>\n",
       "      <td>0</td>\n",
       "      <td>0</td>\n",
       "      <td>0</td>\n",
       "      <td>0</td>\n",
       "      <td>0</td>\n",
       "      <td>0</td>\n",
       "      <td>1</td>\n",
       "      <td>0</td>\n",
       "      <td>0</td>\n",
       "    </tr>\n",
       "  </tbody>\n",
       "</table>\n",
       "<p>5 rows × 36 columns</p>\n",
       "</div>"
      ],
      "text/plain": [
       "   Unnamed: 0  movie_id                                              movie  \\\n",
       "0           0         8      Edison Kinetoscopic Record of a Sneeze (1894)   \n",
       "1           1        10                La sortie des usines Lumière (1895)   \n",
       "2           2        12                      The Arrival of a Train (1896)   \n",
       "3           3        25  The Oxford and Cambridge University Boat Race ...   \n",
       "4           4        91                         Le manoir du diable (1896)   \n",
       "\n",
       "               genre  date  1800's  1900's  2000's  Documentary  Adventure  \\\n",
       "0  Documentary|Short  1894       1       0       0            1          0   \n",
       "1  Documentary|Short  1895       1       0       0            1          0   \n",
       "2  Documentary|Short  1896       1       0       0            1          0   \n",
       "3                NaN  1895       1       0       0            0          0   \n",
       "4       Short|Horror  1896       1       0       0            0          0   \n",
       "\n",
       "   ...  War  Romance  Musical  Film-Noir  Sport  Mystery  Western  Horror  \\\n",
       "0  ...    0        0        0          0      0        0        0       0   \n",
       "1  ...    0        0        0          0      0        0        0       0   \n",
       "2  ...    0        0        0          0      0        0        0       0   \n",
       "3  ...    0        0        0          0      0        0        0       0   \n",
       "4  ...    0        0        0          0      0        0        0       1   \n",
       "\n",
       "   Comedy  Music  \n",
       "0       0      0  \n",
       "1       0      0  \n",
       "2       0      0  \n",
       "3       0      0  \n",
       "4       0      0  \n",
       "\n",
       "[5 rows x 36 columns]"
      ]
     },
     "execution_count": 24,
     "metadata": {},
     "output_type": "execute_result"
    }
   ],
   "source": [
    "movies.head()"
   ]
  },
  {
   "cell_type": "code",
   "execution_count": 25,
   "id": "3cc34a26",
   "metadata": {
    "scrolled": true
   },
   "outputs": [
    {
     "data": {
      "text/html": [
       "<div>\n",
       "<style scoped>\n",
       "    .dataframe tbody tr th:only-of-type {\n",
       "        vertical-align: middle;\n",
       "    }\n",
       "\n",
       "    .dataframe tbody tr th {\n",
       "        vertical-align: top;\n",
       "    }\n",
       "\n",
       "    .dataframe thead th {\n",
       "        text-align: right;\n",
       "    }\n",
       "</style>\n",
       "<table border=\"1\" class=\"dataframe\">\n",
       "  <thead>\n",
       "    <tr style=\"text-align: right;\">\n",
       "      <th></th>\n",
       "      <th>Unnamed: 0</th>\n",
       "      <th>user_id</th>\n",
       "      <th>movie_id</th>\n",
       "      <th>rating</th>\n",
       "      <th>timestamp</th>\n",
       "      <th>date</th>\n",
       "    </tr>\n",
       "  </thead>\n",
       "  <tbody>\n",
       "    <tr>\n",
       "      <th>0</th>\n",
       "      <td>0</td>\n",
       "      <td>1</td>\n",
       "      <td>114508</td>\n",
       "      <td>8</td>\n",
       "      <td>1381006850</td>\n",
       "      <td>2013-10-05 21:00:50</td>\n",
       "    </tr>\n",
       "    <tr>\n",
       "      <th>1</th>\n",
       "      <td>1</td>\n",
       "      <td>2</td>\n",
       "      <td>208092</td>\n",
       "      <td>5</td>\n",
       "      <td>1586466072</td>\n",
       "      <td>2020-04-09 21:01:12</td>\n",
       "    </tr>\n",
       "    <tr>\n",
       "      <th>2</th>\n",
       "      <td>2</td>\n",
       "      <td>2</td>\n",
       "      <td>358273</td>\n",
       "      <td>9</td>\n",
       "      <td>1579057827</td>\n",
       "      <td>2020-01-15 03:10:27</td>\n",
       "    </tr>\n",
       "    <tr>\n",
       "      <th>3</th>\n",
       "      <td>3</td>\n",
       "      <td>2</td>\n",
       "      <td>10039344</td>\n",
       "      <td>5</td>\n",
       "      <td>1578603053</td>\n",
       "      <td>2020-01-09 20:50:53</td>\n",
       "    </tr>\n",
       "    <tr>\n",
       "      <th>4</th>\n",
       "      <td>4</td>\n",
       "      <td>2</td>\n",
       "      <td>6751668</td>\n",
       "      <td>9</td>\n",
       "      <td>1578955697</td>\n",
       "      <td>2020-01-13 22:48:17</td>\n",
       "    </tr>\n",
       "  </tbody>\n",
       "</table>\n",
       "</div>"
      ],
      "text/plain": [
       "   Unnamed: 0  user_id  movie_id  rating   timestamp                 date\n",
       "0           0        1    114508       8  1381006850  2013-10-05 21:00:50\n",
       "1           1        2    208092       5  1586466072  2020-04-09 21:01:12\n",
       "2           2        2    358273       9  1579057827  2020-01-15 03:10:27\n",
       "3           3        2  10039344       5  1578603053  2020-01-09 20:50:53\n",
       "4           4        2   6751668       9  1578955697  2020-01-13 22:48:17"
      ]
     },
     "execution_count": 25,
     "metadata": {},
     "output_type": "execute_result"
    }
   ],
   "source": [
    "reviews.head()"
   ]
  },
  {
   "cell_type": "code",
   "execution_count": 26,
   "id": "6d2d7969",
   "metadata": {},
   "outputs": [
    {
     "data": {
      "text/plain": [
       "count    100001.000000\n",
       "mean          7.397666\n",
       "std           1.833944\n",
       "min           0.000000\n",
       "25%           6.000000\n",
       "50%           8.000000\n",
       "75%           9.000000\n",
       "max          10.000000\n",
       "Name: rating, dtype: float64"
      ]
     },
     "execution_count": 26,
     "metadata": {},
     "output_type": "execute_result"
    }
   ],
   "source": [
    "reviews['rating'].describe()"
   ]
  },
  {
   "cell_type": "code",
   "execution_count": 27,
   "id": "3a67fa98",
   "metadata": {},
   "outputs": [],
   "source": [
    "# drop unwanted columns\n",
    "movies = movies.drop(['Unnamed: 0'], axis=1)\n",
    "reviews = reviews.drop(['Unnamed: 0'], axis=1)"
   ]
  },
  {
   "cell_type": "code",
   "execution_count": 28,
   "id": "8a1bd26b",
   "metadata": {},
   "outputs": [
    {
     "data": {
      "text/plain": [
       "movie_id         0\n",
       "movie            0\n",
       "genre          249\n",
       "date             0\n",
       "1800's           0\n",
       "1900's           0\n",
       "2000's           0\n",
       "Documentary      0\n",
       "Adventure        0\n",
       "Animation        0\n",
       "Thriller         0\n",
       "Reality-TV       0\n",
       "Action           0\n",
       "Adult            0\n",
       "Game-Show        0\n",
       "Fantasy          0\n",
       "Crime            0\n",
       "Talk-Show        0\n",
       "Drama            0\n",
       "Family           0\n",
       "History          0\n",
       "News             0\n",
       "Sci-Fi           0\n",
       "Short            0\n",
       "Biography        0\n",
       "War              0\n",
       "Romance          0\n",
       "Musical          0\n",
       "Film-Noir        0\n",
       "Sport            0\n",
       "Mystery          0\n",
       "Western          0\n",
       "Horror           0\n",
       "Comedy           0\n",
       "Music            0\n",
       "dtype: int64"
      ]
     },
     "execution_count": 28,
     "metadata": {},
     "output_type": "execute_result"
    }
   ],
   "source": [
    "#checking for columns with null value\n",
    "movies.isna().sum()"
   ]
  },
  {
   "cell_type": "code",
   "execution_count": 29,
   "id": "e8edd7fc",
   "metadata": {},
   "outputs": [
    {
     "data": {
      "text/plain": [
       "user_id      0\n",
       "movie_id     0\n",
       "rating       0\n",
       "timestamp    0\n",
       "date         0\n",
       "dtype: int64"
      ]
     },
     "execution_count": 29,
     "metadata": {},
     "output_type": "execute_result"
    }
   ],
   "source": [
    "#checking for columns with null value\n",
    "reviews.isna().sum()"
   ]
  },
  {
   "cell_type": "code",
   "execution_count": 30,
   "id": "c938451d",
   "metadata": {},
   "outputs": [],
   "source": [
    "#find movies with no genre \n",
    "movies_id = movies[movies['genre'].isna() == True]['movie_id']"
   ]
  },
  {
   "cell_type": "code",
   "execution_count": 31,
   "id": "a75bf3c6",
   "metadata": {},
   "outputs": [
    {
     "data": {
      "text/plain": [
       "50"
      ]
     },
     "execution_count": 31,
     "metadata": {},
     "output_type": "execute_result"
    }
   ],
   "source": [
    "len(reviews[reviews.movie_id.isin(movies_id)])"
   ]
  },
  {
   "cell_type": "markdown",
   "id": "416cd8ff",
   "metadata": {},
   "source": [
    "* Since we have 50 reivews of movies with no genre, dropping the movies with no genre is not a good idea.\n",
    "* Null genres will not affected while with the data because we have label-encoded the genres, movies with null genre are taken care with 0 vector."
   ]
  },
  {
   "cell_type": "code",
   "execution_count": 32,
   "id": "c38c103b",
   "metadata": {},
   "outputs": [],
   "source": [
    "# extracting the year from date-time column\n",
    "reviews_year = pd.DatetimeIndex(reviews['date']).year"
   ]
  },
  {
   "cell_type": "code",
   "execution_count": 33,
   "id": "01f2ff0d",
   "metadata": {},
   "outputs": [],
   "source": [
    "sorted_review_year = reviews_year.sort_values(ascending = False)"
   ]
  },
  {
   "cell_type": "code",
   "execution_count": 34,
   "id": "bf69a728",
   "metadata": {},
   "outputs": [
    {
     "name": "stderr",
     "output_type": "stream",
     "text": [
      "D:\\Anaconda\\envs\\parixit\\lib\\site-packages\\seaborn\\_decorators.py:36: FutureWarning: Pass the following variable as a keyword arg: x. From version 0.12, the only valid positional argument will be `data`, and passing other arguments without an explicit keyword will result in an error or misinterpretation.\n",
      "  warnings.warn(\n"
     ]
    },
    {
     "data": {
      "image/png": "[encoded data removed]",
      "text/plain": [
       "<Figure size 720x360 with 1 Axes>"
      ]
     },
     "metadata": {
      "needs_background": "light"
     },
     "output_type": "display_data"
    }
   ],
   "source": [
    "plt.figure(figsize=(10,5))\n",
    "ax = sns.countplot(sorted_review_year)\n",
    "plt.xlabel(\"year\", fontsize = 14)\n",
    "plt.ylabel(\"count\", fontsize = 14)\n",
    "plt.title('Count of reviews per year', size = 16)\n",
    "plt.show()"
   ]
  },
  {
   "cell_type": "code",
   "execution_count": 35,
   "id": "e09b369b",
   "metadata": {},
   "outputs": [
    {
     "data": {
      "text/plain": [
       "Documentary    0\n",
       "Adventure      0\n",
       "Animation      0\n",
       "Thriller       0\n",
       "Reality-TV     0\n",
       "Action         0\n",
       "Adult          0\n",
       "Game-Show      0\n",
       "Fantasy        0\n",
       "Crime          0\n",
       "Talk-Show      0\n",
       "Drama          0\n",
       "Family         0\n",
       "History        0\n",
       "News           0\n",
       "Sci-Fi         0\n",
       "Short          0\n",
       "Biography      0\n",
       "War            0\n",
       "Romance        0\n",
       "Musical        0\n",
       "Film-Noir      0\n",
       "Sport          0\n",
       "Mystery        0\n",
       "Western        0\n",
       "Horror         0\n",
       "Comedy         0\n",
       "Music          0\n",
       "Name: 3, dtype: object"
      ]
     },
     "execution_count": 35,
     "metadata": {},
     "output_type": "execute_result"
    }
   ],
   "source": [
    "# example of data point with null genre \n",
    "movies[movies['genre'].isna() == True].iloc[0,7:]"
   ]
  },
  {
   "cell_type": "code",
   "execution_count": null,
   "id": "c1c7dc40",
   "metadata": {},
   "outputs": [],
   "source": []
  },
  {
   "cell_type": "markdown",
   "id": "ac11b613",
   "metadata": {},
   "source": [
    "## Q: What are the top 10 highest rated movies in twitter?"
   ]
  },
  {
   "cell_type": "markdown",
   "id": "42e2eeb4",
   "metadata": {},
   "source": [
    "### Data Modeling"
   ]
  },
  {
   "cell_type": "code",
   "execution_count": 36,
   "id": "5edc7de0",
   "metadata": {},
   "outputs": [
    {
     "data": {
      "text/html": [
       "<div>\n",
       "<style scoped>\n",
       "    .dataframe tbody tr th:only-of-type {\n",
       "        vertical-align: middle;\n",
       "    }\n",
       "\n",
       "    .dataframe tbody tr th {\n",
       "        vertical-align: top;\n",
       "    }\n",
       "\n",
       "    .dataframe thead th {\n",
       "        text-align: right;\n",
       "    }\n",
       "</style>\n",
       "<table border=\"1\" class=\"dataframe\">\n",
       "  <thead>\n",
       "    <tr style=\"text-align: right;\">\n",
       "      <th></th>\n",
       "      <th>user_id</th>\n",
       "      <th>movie_id</th>\n",
       "      <th>rating</th>\n",
       "      <th>timestamp</th>\n",
       "      <th>date</th>\n",
       "    </tr>\n",
       "  </thead>\n",
       "  <tbody>\n",
       "    <tr>\n",
       "      <th>71463</th>\n",
       "      <td>5560</td>\n",
       "      <td>206634</td>\n",
       "      <td>10</td>\n",
       "      <td>1508549128</td>\n",
       "      <td>2017-10-21 01:25:28</td>\n",
       "    </tr>\n",
       "    <tr>\n",
       "      <th>28776</th>\n",
       "      <td>2089</td>\n",
       "      <td>373883</td>\n",
       "      <td>10</td>\n",
       "      <td>1540587141</td>\n",
       "      <td>2018-10-26 20:52:21</td>\n",
       "    </tr>\n",
       "    <tr>\n",
       "      <th>60500</th>\n",
       "      <td>4515</td>\n",
       "      <td>68646</td>\n",
       "      <td>10</td>\n",
       "      <td>1490921444</td>\n",
       "      <td>2017-03-31 00:50:44</td>\n",
       "    </tr>\n",
       "    <tr>\n",
       "      <th>60501</th>\n",
       "      <td>4515</td>\n",
       "      <td>86879</td>\n",
       "      <td>10</td>\n",
       "      <td>1499083869</td>\n",
       "      <td>2017-07-03 12:11:09</td>\n",
       "    </tr>\n",
       "    <tr>\n",
       "      <th>60502</th>\n",
       "      <td>4515</td>\n",
       "      <td>95953</td>\n",
       "      <td>10</td>\n",
       "      <td>1490312703</td>\n",
       "      <td>2017-03-23 23:45:03</td>\n",
       "    </tr>\n",
       "    <tr>\n",
       "      <th>11902</th>\n",
       "      <td>829</td>\n",
       "      <td>4196776</td>\n",
       "      <td>10</td>\n",
       "      <td>1469695719</td>\n",
       "      <td>2016-07-28 08:48:39</td>\n",
       "    </tr>\n",
       "    <tr>\n",
       "      <th>60503</th>\n",
       "      <td>4515</td>\n",
       "      <td>102926</td>\n",
       "      <td>10</td>\n",
       "      <td>1490048220</td>\n",
       "      <td>2017-03-20 22:17:00</td>\n",
       "    </tr>\n",
       "    <tr>\n",
       "      <th>60504</th>\n",
       "      <td>4515</td>\n",
       "      <td>107207</td>\n",
       "      <td>10</td>\n",
       "      <td>1493646677</td>\n",
       "      <td>2017-05-01 13:51:17</td>\n",
       "    </tr>\n",
       "    <tr>\n",
       "      <th>60505</th>\n",
       "      <td>4515</td>\n",
       "      <td>109830</td>\n",
       "      <td>10</td>\n",
       "      <td>1491256118</td>\n",
       "      <td>2017-04-03 21:48:38</td>\n",
       "    </tr>\n",
       "    <tr>\n",
       "      <th>60506</th>\n",
       "      <td>4515</td>\n",
       "      <td>114369</td>\n",
       "      <td>10</td>\n",
       "      <td>1493994301</td>\n",
       "      <td>2017-05-05 14:25:01</td>\n",
       "    </tr>\n",
       "  </tbody>\n",
       "</table>\n",
       "</div>"
      ],
      "text/plain": [
       "       user_id  movie_id  rating   timestamp                 date\n",
       "71463     5560    206634      10  1508549128  2017-10-21 01:25:28\n",
       "28776     2089    373883      10  1540587141  2018-10-26 20:52:21\n",
       "60500     4515     68646      10  1490921444  2017-03-31 00:50:44\n",
       "60501     4515     86879      10  1499083869  2017-07-03 12:11:09\n",
       "60502     4515     95953      10  1490312703  2017-03-23 23:45:03\n",
       "11902      829   4196776      10  1469695719  2016-07-28 08:48:39\n",
       "60503     4515    102926      10  1490048220  2017-03-20 22:17:00\n",
       "60504     4515    107207      10  1493646677  2017-05-01 13:51:17\n",
       "60505     4515    109830      10  1491256118  2017-04-03 21:48:38\n",
       "60506     4515    114369      10  1493994301  2017-05-05 14:25:01"
      ]
     },
     "execution_count": 36,
     "metadata": {},
     "output_type": "execute_result"
    }
   ],
   "source": [
    "# Sorting according rating in descending order\n",
    "reviews.sort_values(['rating'], ascending = False).head(10)"
   ]
  },
  {
   "cell_type": "markdown",
   "id": "0c40a6f2",
   "metadata": {},
   "source": [
    "As you can see many movies are rated 10, which doesnot give us a useful insight. \n",
    "Here same user have rated different movies and same movies are being rated by different users.<br>\n",
    "So, finding the mean rating for each movie and sorting them will give us a deeper insight"
   ]
  },
  {
   "cell_type": "code",
   "execution_count": 37,
   "id": "26777a19",
   "metadata": {},
   "outputs": [],
   "source": [
    "# finding the average for each movie and sorting it descending order\n",
    "avg_mov_ratings = reviews.groupby(['movie_id'])['rating'].mean().sort_values(ascending = False)"
   ]
  },
  {
   "cell_type": "code",
   "execution_count": 38,
   "id": "27e80bcc",
   "metadata": {},
   "outputs": [
    {
     "data": {
      "image/png": "[encoded data removed]",
      "text/plain": [
       "<Figure size 720x360 with 1 Axes>"
      ]
     },
     "metadata": {
      "needs_background": "light"
     },
     "output_type": "display_data"
    }
   ],
   "source": [
    "plt.figure(figsize=(10,5))\n",
    "ax = sns.histplot(data = avg_mov_ratings)\n",
    "ax.set(xlabel='average rating')\n",
    "plt.xlabel(\"average rating\", fontsize = 14)\n",
    "plt.ylabel(\"count\", fontsize = 14)\n",
    "plt.title('Count of mean having average rating', size = 16)\n",
    "plt.show()"
   ]
  },
  {
   "cell_type": "markdown",
   "id": "21a8c788",
   "metadata": {},
   "source": [
    "So we know that we have around 800 movies having perfect 10 as average rating, Now it's time retrive those movies names"
   ]
  },
  {
   "cell_type": "code",
   "execution_count": 39,
   "id": "21566626",
   "metadata": {},
   "outputs": [],
   "source": [
    "movies_id_10 = avg_mov_ratings[avg_mov_ratings.values == 10].index.values"
   ]
  },
  {
   "cell_type": "code",
   "execution_count": 40,
   "id": "23dac003",
   "metadata": {},
   "outputs": [],
   "source": [
    "highest_rated_movies = movies[movies.movie_id.isin(movies_id_10)]['movie']"
   ]
  },
  {
   "cell_type": "code",
   "execution_count": 49,
   "id": "3ec27ac0",
   "metadata": {},
   "outputs": [
    {
     "name": "stdout",
     "output_type": "stream",
     "text": [
      "['Mad As Hell (2014)' 'The In Crowd (2000)' 'Cries from Syria (2017)'\n",
      " 'Permanent Record (1988)' 'Broadway Danny Rose (1984)'\n",
      " 'Ningen no jôken (1961)' 'The Loveless (1981)'\n",
      " 'Du bi quan wang da po xue di zi (1976)' 'De eso no se habla (1993)'\n",
      " 'Unrest (2017)']\n"
     ]
    }
   ],
   "source": [
    "# recommend random 10 highest rated movies\n",
    "print(highest_rated_movies.sample(10).values)"
   ]
  },
  {
   "cell_type": "markdown",
   "id": "3f4fbb69",
   "metadata": {},
   "source": [
    "## Insight\n",
    "From around 800 movies having 10 mean rating in Twitter, the above list shows random 10 samples"
   ]
  },
  {
   "cell_type": "markdown",
   "id": "498887e7",
   "metadata": {},
   "source": [
    "## Q: What are the top 10 most reviewed movies on twitter?"
   ]
  },
  {
   "cell_type": "markdown",
   "id": "f54e78fb",
   "metadata": {},
   "source": [
    "### Data Modeling"
   ]
  },
  {
   "cell_type": "code",
   "execution_count": 50,
   "id": "3e456653",
   "metadata": {},
   "outputs": [
    {
     "data": {
      "text/plain": [
       "movie_id\n",
       "1454468    358\n",
       "8579674    345\n",
       "993846     332\n",
       "7286456    324\n",
       "816692     324\n",
       "770828     305\n",
       "1300854    276\n",
       "1535109    265\n",
       "1670345    262\n",
       "816711     259\n",
       "Name: user_id, dtype: int64"
      ]
     },
     "execution_count": 50,
     "metadata": {},
     "output_type": "execute_result"
    }
   ],
   "source": [
    "# finding the no. of reviews per movie\n",
    "reviews.groupby(['movie_id'])['user_id'].count().sort_values(ascending = False)[:10]"
   ]
  },
  {
   "cell_type": "code",
   "execution_count": 51,
   "id": "f7d06412",
   "metadata": {},
   "outputs": [],
   "source": [
    "popular_movies_idx =  reviews.groupby(['movie_id'])['user_id'].count().sort_values(ascending = False).index.values"
   ]
  },
  {
   "cell_type": "code",
   "execution_count": 52,
   "id": "dc02449f",
   "metadata": {},
   "outputs": [
    {
     "data": {
      "text/plain": [
       "array([ 1454468,  8579674,   993846, ...,   471957,   471930, 12131262],\n",
       "      dtype=int64)"
      ]
     },
     "execution_count": 52,
     "metadata": {},
     "output_type": "execute_result"
    }
   ],
   "source": [
    "popular_movies_idx"
   ]
  },
  {
   "cell_type": "code",
   "execution_count": 53,
   "id": "cba34f2a",
   "metadata": {},
   "outputs": [],
   "source": [
    "def get_movies(df, idxs):\n",
    "    ''' getting the movie name from the dataframe\n",
    "        inputs-\n",
    "            df: input dataframe\n",
    "            idxs: list of movie indexes\n",
    "        output-\n",
    "            result: list of movie names\n",
    "    '''\n",
    "    result = []\n",
    "    for idx in idxs:\n",
    "        result.append(df[df.movie_id == idx]['movie'].values[0])\n",
    "    return result"
   ]
  },
  {
   "cell_type": "code",
   "execution_count": 54,
   "id": "d555e619",
   "metadata": {},
   "outputs": [],
   "source": [
    "sorted_popular_movies = get_movies(movies, popular_movies_idx[:10])"
   ]
  },
  {
   "cell_type": "code",
   "execution_count": 56,
   "id": "0eed728d",
   "metadata": {},
   "outputs": [],
   "source": [
    "sort_pop_reviews = reviews.groupby(['movie_id'])['user_id'].count().sort_values(ascending = False).values"
   ]
  },
  {
   "cell_type": "code",
   "execution_count": 58,
   "id": "ddd9d2a1",
   "metadata": {},
   "outputs": [
    {
     "name": "stdout",
     "output_type": "stream",
     "text": [
      "Gravity (2013) reviews: 358\n",
      "1917 (2019) reviews: 345\n",
      "The Wolf of Wall Street (2013) reviews: 332\n",
      "Joker (2019) reviews: 324\n",
      "Interstellar (2014) reviews: 324\n",
      "Man of Steel (2013) reviews: 305\n",
      "Iron Man Three (2013) reviews: 276\n",
      "Captain Phillips (2013) reviews: 265\n",
      "Now You See Me (2013) reviews: 262\n",
      "World War Z (2013) reviews: 259\n"
     ]
    }
   ],
   "source": [
    "for movie, review in zip(sorted_popular_movies, sort_pop_reviews):\n",
    "    print(movie,\"reviews:\",review)"
   ]
  },
  {
   "cell_type": "markdown",
   "id": "adba13d5",
   "metadata": {},
   "source": [
    "### Insight\n",
    "The list above is the top 10 popular movies in twitter, Honestly I agree with this list, I have watched all of them."
   ]
  },
  {
   "cell_type": "markdown",
   "id": "cb0d1333",
   "metadata": {},
   "source": [
    "## Q: Which twitter users are potential candidates to get hired from a movie reviewing company?"
   ]
  },
  {
   "cell_type": "markdown",
   "id": "daed3d35",
   "metadata": {},
   "source": [
    "### Data Modeling"
   ]
  },
  {
   "cell_type": "code",
   "execution_count": 98,
   "id": "379e0869",
   "metadata": {},
   "outputs": [],
   "source": [
    "# getting the no. of movies reviewed by each user\n",
    "reviews_per_user = reviews.groupby(['user_id'])['movie_id'].count().sort_values(ascending = False)"
   ]
  },
  {
   "cell_type": "code",
   "execution_count": 115,
   "id": "d2567111",
   "metadata": {},
   "outputs": [
    {
     "data": {
      "text/plain": [
       "user_id\n",
       "2089    1377\n",
       "3440    1274\n",
       "2213    1180\n",
       "5867     675\n",
       "7201     605\n",
       "98       595\n",
       "4096     571\n",
       "1120     505\n",
       "4307     466\n",
       "3442     455\n",
       "Name: movie_id, dtype: int64"
      ]
     },
     "execution_count": 115,
     "metadata": {},
     "output_type": "execute_result"
    }
   ],
   "source": [
    "reviews_per_user[:10]"
   ]
  },
  {
   "cell_type": "code",
   "execution_count": 141,
   "id": "99bc7f58",
   "metadata": {},
   "outputs": [
    {
     "data": {
      "image/png": "[encoded data removed]",
      "text/plain": [
       "<Figure size 720x360 with 1 Axes>"
      ]
     },
     "metadata": {
      "needs_background": "light"
     },
     "output_type": "display_data"
    }
   ],
   "source": [
    "plt.figure(figsize=(10,5))\n",
    "ax = sns.barplot(x = reviews_per_user[:10].index.values, y = reviews_per_user[:10].values)\n",
    "plt.xlabel(\"user_id\", fontsize = 14)\n",
    "plt.ylabel(\"no. of movies\", fontsize = 14)\n",
    "plt.title('number of movies reviewed by twitter users', size = 16)\n",
    "plt.show()"
   ]
  },
  {
   "cell_type": "markdown",
   "id": "d28b6e18",
   "metadata": {},
   "source": [
    "### Insight\n",
    "* From the graph we can conclude that **twitter user id's - 2089, 2213, 3440** are the perfect candidates to get hired from movie reviewing companies, each candidate have atleast reviewed 1000 movies."
   ]
  },
  {
   "cell_type": "markdown",
   "id": "c82955f4",
   "metadata": {},
   "source": [
    "## Q: Which genres are popular for movies?"
   ]
  },
  {
   "cell_type": "markdown",
   "id": "c7b80c64",
   "metadata": {},
   "source": [
    "### Data Modeling"
   ]
  },
  {
   "cell_type": "code",
   "execution_count": 129,
   "id": "23ae2017",
   "metadata": {},
   "outputs": [],
   "source": [
    "genres = movies.iloc[:,7:]"
   ]
  },
  {
   "cell_type": "code",
   "execution_count": 134,
   "id": "51e3c513",
   "metadata": {},
   "outputs": [],
   "source": [
    "sorted_genres = genres.sum(axis= 0).sort_values(ascending = False)"
   ]
  },
  {
   "cell_type": "code",
   "execution_count": 140,
   "id": "1cb5e2fb",
   "metadata": {},
   "outputs": [
    {
     "data": {
      "image/png": "[encoded data removed]",
      "text/plain": [
       "<Figure size 1080x576 with 1 Axes>"
      ]
     },
     "metadata": {
      "needs_background": "light"
     },
     "output_type": "display_data"
    }
   ],
   "source": [
    "plt.figure(figsize=(15,8))\n",
    "ax = sns.barplot(x = sorted_genres.index.values, y =sorted_genres.values)\n",
    "plt.xlabel(\"Genres\", fontsize = 20)\n",
    "plt.xticks(rotation=90)\n",
    "plt.ylabel(\"no. of movies made\", fontsize = 14)\n",
    "plt.title('Movies vs Genres', size = 16)\n",
    "plt.show()"
   ]
  },
  {
   "cell_type": "markdown",
   "id": "ef49efa3",
   "metadata": {},
   "source": [
    "### Insight\n",
    "* From the above graph we found that **drama** is the most popular genre for making movies, followed by **comedy , thriller and romance**.\n",
    "* Since we experience drama more often in our daily than the other categories, it is more relatable to us. Hence it is easier to make movies. Also drama movies requires more attention in acting rather than vfx, cgi, props and other expensive resoureces in movie making. That is my explaination of the trend above."
   ]
  }
 ],
 "metadata": {
  "kernelspec": {
   "display_name": "Python 3",
   "language": "python",
   "name": "python3"
  },
  "language_info": {
   "codemirror_mode": {
    "name": "ipython",
    "version": 3
   },
   "file_extension": ".py",
   "mimetype": "text/x-python",
   "name": "python",
   "nbconvert_exporter": "python",
   "pygments_lexer": "ipython3",
   "version": "3.8.8"
  }
 },
 "nbformat": 4,
 "nbformat_minor": 5
}
